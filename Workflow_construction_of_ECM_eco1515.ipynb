{
 "cells": [
  {
   "cell_type": "markdown",
   "metadata": {},
   "source": [
    "# Import related pacakages"
   ]
  },
  {
   "cell_type": "code",
   "execution_count": 1,
   "metadata": {},
   "outputs": [],
   "source": [
    "import cobra\n",
    "import sys\n",
    "sys.path.append(r'./code/')\n",
    "from cobrapy_ec_model_function import *"
   ]
  },
  {
   "cell_type": "markdown",
   "metadata": {},
   "source": [
    "# Inputing files"
   ]
  },
  {
   "cell_type": "code",
   "execution_count": 2,
   "metadata": {},
   "outputs": [],
   "source": [
    "# The genome-scale metabolic model for constructing the enzyme-constrained model\n",
    "model_name = './model/iML1515.xml' \n",
    "\n",
    "# Reaction-kcat file.\n",
    "# eg. AADDGT,49389.2889\n",
    "reaction_kcat_file = \"./data/reaction_kcat.csv\"\n",
    "\n",
    "# Gene-abundance file. \n",
    "# eg. b0789,1.1\n",
    "gene_abundance_file = \"./data/gene_abundance.csv\"\n",
    "\n",
    "# Gene-molecular_weight file. \n",
    "# eg. b0001,thrL,2.13846\n",
    "gene_molecular_weight_file = \"./data/gene_molecular_weight.csv\"\n"
   ]
  },
  {
   "cell_type": "markdown",
   "metadata": {},
   "source": [
    "# Step1: Preprocessing of model"
   ]
  },
  {
   "cell_type": "markdown",
   "metadata": {},
   "source": [
    "The reversible reactions in the GEM model are divided into two irreversible reactions. The input is iML1515 with 2712 reactions. The output is a model with 3375 irreversible reactions."
   ]
  },
  {
   "cell_type": "code",
   "execution_count": 3,
   "metadata": {},
   "outputs": [
    {
     "output_type": "execute_result",
     "data": {
      "text/plain": "<Model iML1515 at 0x224d966e7b8>",
      "text/html": "\n        <table>\n            <tr>\n                <td><strong>Name</strong></td>\n                <td>iML1515</td>\n            </tr><tr>\n                <td><strong>Memory address</strong></td>\n                <td>0x0224d966e7b8</td>\n            </tr><tr>\n                <td><strong>Number of metabolites</strong></td>\n                <td>1877</td>\n            </tr><tr>\n                <td><strong>Number of reactions</strong></td>\n                <td>3375</td>\n            </tr><tr>\n                <td><strong>Number of groups</strong></td>\n                <td>38</td>\n            </tr><tr>\n                <td><strong>Objective expression</strong></td>\n                <td>1.0*BIOMASS_Ec_iML1515_core_75p37M - 1.0*BIOMASS_Ec_iML1515_core_75p37M_reverse_35685</td>\n            </tr><tr>\n                <td><strong>Compartments</strong></td>\n                <td>cytosol, extracellular space, periplasm</td>\n            </tr>\n          </table>"
     },
     "metadata": {},
     "execution_count": 3
    }
   ],
   "source": [
    "model = cobra.io.read_sbml_model(model_name)\n",
    "convert_to_irreversible(model)\n",
    "model"
   ]
  },
  {
   "cell_type": "markdown",
   "metadata": {},
   "source": [
    "# Step2: Retrieving enzyme kinetics and proteomics data"
   ]
  },
  {
   "cell_type": "markdown",
   "metadata": {},
   "source": [
    "The inputs are GEM model. The outputs are 'genes' and 'gpr_relationship' data in the iML1515."
   ]
  },
  {
   "cell_type": "code",
   "execution_count": 4,
   "metadata": {},
   "outputs": [],
   "source": [
    "[genes,gpr_relationship] = get_genes_and_gpr(model)"
   ]
  },
  {
   "cell_type": "markdown",
   "metadata": {},
   "source": [
    "Get the molecular weight of the enzyme (MW) according to the file of all_reaction_GPR.csv, which obtained from the previous step (gpr_relationship, ./analysis/all_reaction_GPR.csv). We need to manually correct the error of the gene_reaction_rule of a small amount of reactions in iML1515 (See Supplementary Table S1 for details), and also need to manually get the subunit of each protein from EcoCyc."
   ]
  },
  {
   "cell_type": "code",
   "execution_count": 5,
   "metadata": {},
   "outputs": [],
   "source": [
    "# reaction-gene-subunit-MW file. \n",
    "# eg. ALATA_D2,D-alanine transaminase,b2551 or b0870,45.31659 or 36.49471 ,2 or 4 \n",
    "reaction_gene_subunit_MW = \"./data/reaction_gene_subunit_MW.csv\"\n",
    "reaction_mw = calculate_reaction_mw(reaction_gene_subunit_MW)"
   ]
  },
  {
   "cell_type": "markdown",
   "metadata": {},
   "source": [
    "Calculate kcat/MW. The inputs are 'reaction_kcat' and 'reaction_MW' data for calculating the kcat/MW (When the reaction is catalyzed by several isozymes, the maximum is retained)."
   ]
  },
  {
   "cell_type": "code",
   "execution_count": 6,
   "metadata": {},
   "outputs": [],
   "source": [
    "reaction_kcat_mw = calculate_reaction_kcat_mw(reaction_kcat_file, reaction_mw)"
   ]
  },
  {
   "cell_type": "markdown",
   "metadata": {},
   "source": [
    "Calculate f. The input is 'genes' data, 'gene_abundance.csv' and 'gene_molecular_weight.csv'."
   ]
  },
  {
   "cell_type": "code",
   "execution_count": 7,
   "metadata": {
    "tags": []
   },
   "outputs": [
    {
     "output_type": "execute_result",
     "data": {
      "text/plain": "0.4059986079578236"
     },
     "metadata": {},
     "execution_count": 7
    }
   ],
   "source": [
    "f = calculate_f(genes, gene_abundance_file, gene_molecular_weight_file)\n",
    "f"
   ]
  },
  {
   "cell_type": "markdown",
   "metadata": {},
   "source": [
    "# Step3: Introducing enzyme concentration constraint by COBRApy."
   ]
  },
  {
   "cell_type": "markdown",
   "metadata": {},
   "source": [
    "The inputs are GEM model, 'ID_kcat_MW' data, the lowerbound and upperbound of enzyme concentration constraint. The output is an enzyme-constrained model."
   ]
  },
  {
   "cell_type": "code",
   "execution_count": 8,
   "metadata": {},
   "outputs": [],
   "source": [
    "# Calculating the upperbound of the enzyme concentration constraint \n",
    "# obtained by the above process.\n",
    "# The total protein fraction in cell.\n",
    "ptot = 0.56 \n",
    "# The approximated average saturation of enzyme.\n",
    "sigma = 0.5 \n",
    "# Lowerbound  of enzyme concentration constraint. \n",
    "lowerbound = 0   \n",
    "upperbound = round(ptot * f * sigma, 3)\n",
    "model = set_enzyme_constraint(model, reaction_kcat_mw, lowerbound, upperbound)"
   ]
  },
  {
   "cell_type": "code",
   "execution_count": 9,
   "metadata": {},
   "outputs": [
    {
     "output_type": "execute_result",
     "data": {
      "text/plain": "0.7074061852934237"
     },
     "metadata": {},
     "execution_count": 9
    }
   ],
   "source": [
    "pfba_solution = cobra.flux_analysis.pfba(model)\n",
    "pfba_solution.fluxes['BIOMASS_Ec_iML1515_core_75p37M']"
   ]
  },
  {
   "cell_type": "code",
   "execution_count": null,
   "metadata": {},
   "outputs": [],
   "source": []
  }
 ],
 "metadata": {
  "kernelspec": {
   "display_name": "Python 3.6.9 64-bit ('enzyme_python': conda)",
   "language": "python",
   "name": "python_defaultSpec_1600139136542"
  },
  "language_info": {
   "codemirror_mode": {
    "name": "ipython",
    "version": 3
   },
   "file_extension": ".py",
   "mimetype": "text/x-python",
   "name": "python",
   "nbconvert_exporter": "python",
   "pygments_lexer": "ipython3",
   "version": "3.6.9-final"
  }
 },
 "nbformat": 4,
 "nbformat_minor": 2
}